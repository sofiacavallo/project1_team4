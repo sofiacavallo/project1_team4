{
 "cells": [
  {
   "cell_type": "code",
   "execution_count": 1,
   "metadata": {},
   "outputs": [],
   "source": [
    "#importing dependencies\n",
    "import pandas as pd \n",
    "import matplotlib.pyplot as plt \n",
    "import numpy as np \n",
    "from scipy.stats import sem, ttest_ind, linregress"
   ]
  },
  {
   "cell_type": "code",
   "execution_count": 2,
   "metadata": {},
   "outputs": [],
   "source": [
    "#creating a path for the csv file\n",
    "csv_file = \"../Datasets/cumulative-co-emissions.csv\""
   ]
  },
  {
   "cell_type": "code",
   "execution_count": 3,
   "metadata": {},
   "outputs": [
    {
     "data": {
      "text/html": [
       "<div>\n",
       "<style scoped>\n",
       "    .dataframe tbody tr th:only-of-type {\n",
       "        vertical-align: middle;\n",
       "    }\n",
       "\n",
       "    .dataframe tbody tr th {\n",
       "        vertical-align: top;\n",
       "    }\n",
       "\n",
       "    .dataframe thead th {\n",
       "        text-align: right;\n",
       "    }\n",
       "</style>\n",
       "<table border=\"1\" class=\"dataframe\">\n",
       "  <thead>\n",
       "    <tr style=\"text-align: right;\">\n",
       "      <th></th>\n",
       "      <th>YR</th>\n",
       "      <th>CO2</th>\n",
       "      <th>Temp</th>\n",
       "    </tr>\n",
       "  </thead>\n",
       "  <tbody>\n",
       "    <tr>\n",
       "      <th>108</th>\n",
       "      <td>2013</td>\n",
       "      <td>4.222918e+12</td>\n",
       "      <td>28.0</td>\n",
       "    </tr>\n",
       "    <tr>\n",
       "      <th>109</th>\n",
       "      <td>2014</td>\n",
       "      <td>4.327605e+12</td>\n",
       "      <td>29.7</td>\n",
       "    </tr>\n",
       "    <tr>\n",
       "      <th>110</th>\n",
       "      <td>2015</td>\n",
       "      <td>4.432543e+12</td>\n",
       "      <td>30.8</td>\n",
       "    </tr>\n",
       "    <tr>\n",
       "      <th>111</th>\n",
       "      <td>2016</td>\n",
       "      <td>4.467354e+12</td>\n",
       "      <td>30.3</td>\n",
       "    </tr>\n",
       "    <tr>\n",
       "      <th>112</th>\n",
       "      <td>Grand Total</td>\n",
       "      <td>1.646340e+14</td>\n",
       "      <td>NaN</td>\n",
       "    </tr>\n",
       "  </tbody>\n",
       "</table>\n",
       "</div>"
      ],
      "text/plain": [
       "              YR           CO2  Temp\n",
       "108         2013  4.222918e+12  28.0\n",
       "109         2014  4.327605e+12  29.7\n",
       "110         2015  4.432543e+12  30.8\n",
       "111         2016  4.467354e+12  30.3\n",
       "112  Grand Total  1.646340e+14   NaN"
      ]
     },
     "execution_count": 3,
     "metadata": {},
     "output_type": "execute_result"
    }
   ],
   "source": [
    "# reading the csv file and creating a dataframe\n",
    "global_temp_CO2_df = pd.read_csv(csv_file)\n",
    "global_temp_CO2_df.tail()"
   ]
  },
  {
   "cell_type": "code",
   "execution_count": 4,
   "metadata": {},
   "outputs": [
    {
     "data": {
      "text/plain": [
       "YR      113\n",
       "CO2     113\n",
       "Temp    112\n",
       "dtype: int64"
      ]
     },
     "execution_count": 4,
     "metadata": {},
     "output_type": "execute_result"
    }
   ],
   "source": [
    "#Checking how many values each column has\n",
    "global_temp_CO2_df.count()\n"
   ]
  },
  {
   "cell_type": "code",
   "execution_count": 5,
   "metadata": {},
   "outputs": [
    {
     "data": {
      "text/html": [
       "<div>\n",
       "<style scoped>\n",
       "    .dataframe tbody tr th:only-of-type {\n",
       "        vertical-align: middle;\n",
       "    }\n",
       "\n",
       "    .dataframe tbody tr th {\n",
       "        vertical-align: top;\n",
       "    }\n",
       "\n",
       "    .dataframe thead th {\n",
       "        text-align: right;\n",
       "    }\n",
       "</style>\n",
       "<table border=\"1\" class=\"dataframe\">\n",
       "  <thead>\n",
       "    <tr style=\"text-align: right;\">\n",
       "      <th></th>\n",
       "      <th>YR</th>\n",
       "      <th>CO2</th>\n",
       "      <th>Temp</th>\n",
       "    </tr>\n",
       "  </thead>\n",
       "  <tbody>\n",
       "    <tr>\n",
       "      <th>107</th>\n",
       "      <td>2012</td>\n",
       "      <td>4.119099e+12</td>\n",
       "      <td>30.4</td>\n",
       "    </tr>\n",
       "    <tr>\n",
       "      <th>108</th>\n",
       "      <td>2013</td>\n",
       "      <td>4.222918e+12</td>\n",
       "      <td>28.0</td>\n",
       "    </tr>\n",
       "    <tr>\n",
       "      <th>109</th>\n",
       "      <td>2014</td>\n",
       "      <td>4.327605e+12</td>\n",
       "      <td>29.7</td>\n",
       "    </tr>\n",
       "    <tr>\n",
       "      <th>110</th>\n",
       "      <td>2015</td>\n",
       "      <td>4.432543e+12</td>\n",
       "      <td>30.8</td>\n",
       "    </tr>\n",
       "    <tr>\n",
       "      <th>111</th>\n",
       "      <td>2016</td>\n",
       "      <td>4.467354e+12</td>\n",
       "      <td>30.3</td>\n",
       "    </tr>\n",
       "  </tbody>\n",
       "</table>\n",
       "</div>"
      ],
      "text/plain": [
       "       YR           CO2  Temp\n",
       "107  2012  4.119099e+12  30.4\n",
       "108  2013  4.222918e+12  28.0\n",
       "109  2014  4.327605e+12  29.7\n",
       "110  2015  4.432543e+12  30.8\n",
       "111  2016  4.467354e+12  30.3"
      ]
     },
     "execution_count": 5,
     "metadata": {},
     "output_type": "execute_result"
    }
   ],
   "source": [
    "# droppint empty cells \n",
    "global_temp_CO2_clean_df= global_temp_CO2_df.dropna(how='any')\n",
    "global_temp_CO2_clean_df.tail()"
   ]
  },
  {
   "cell_type": "code",
   "execution_count": 6,
   "metadata": {},
   "outputs": [
    {
     "data": {
      "text/plain": [
       "YR      112\n",
       "CO2     112\n",
       "Temp    112\n",
       "dtype: int64"
      ]
     },
     "execution_count": 6,
     "metadata": {},
     "output_type": "execute_result"
    }
   ],
   "source": [
    "#Checking how many values each column has\n",
    "global_temp_CO2_clean_df.count()"
   ]
  },
  {
   "cell_type": "code",
   "execution_count": 7,
   "metadata": {},
   "outputs": [
    {
     "data": {
      "text/html": [
       "<div>\n",
       "<style scoped>\n",
       "    .dataframe tbody tr th:only-of-type {\n",
       "        vertical-align: middle;\n",
       "    }\n",
       "\n",
       "    .dataframe tbody tr th {\n",
       "        vertical-align: top;\n",
       "    }\n",
       "\n",
       "    .dataframe thead th {\n",
       "        text-align: right;\n",
       "    }\n",
       "</style>\n",
       "<table border=\"1\" class=\"dataframe\">\n",
       "  <thead>\n",
       "    <tr style=\"text-align: right;\">\n",
       "      <th></th>\n",
       "      <th>YR</th>\n",
       "      <th>CO2</th>\n",
       "      <th>Temp</th>\n",
       "    </tr>\n",
       "  </thead>\n",
       "  <tbody>\n",
       "    <tr>\n",
       "      <th>0</th>\n",
       "      <td>1905</td>\n",
       "      <td>1.668692e+11</td>\n",
       "      <td>31.9</td>\n",
       "    </tr>\n",
       "    <tr>\n",
       "      <th>1</th>\n",
       "      <td>1906</td>\n",
       "      <td>1.744755e+11</td>\n",
       "      <td>27.3</td>\n",
       "    </tr>\n",
       "    <tr>\n",
       "      <th>2</th>\n",
       "      <td>1907</td>\n",
       "      <td>1.830220e+11</td>\n",
       "      <td>27.2</td>\n",
       "    </tr>\n",
       "    <tr>\n",
       "      <th>3</th>\n",
       "      <td>1908</td>\n",
       "      <td>1.912235e+11</td>\n",
       "      <td>23.9</td>\n",
       "    </tr>\n",
       "    <tr>\n",
       "      <th>4</th>\n",
       "      <td>1909</td>\n",
       "      <td>1.997697e+11</td>\n",
       "      <td>25.0</td>\n",
       "    </tr>\n",
       "  </tbody>\n",
       "</table>\n",
       "</div>"
      ],
      "text/plain": [
       "     YR           CO2  Temp\n",
       "0  1905  1.668692e+11  31.9\n",
       "1  1906  1.744755e+11  27.3\n",
       "2  1907  1.830220e+11  27.2\n",
       "3  1908  1.912235e+11  23.9\n",
       "4  1909  1.997697e+11  25.0"
      ]
     },
     "execution_count": 7,
     "metadata": {},
     "output_type": "execute_result"
    }
   ],
   "source": [
    "# Filtering the data from 1905 to 1950\n",
    "global_temp_CO2_1950_df = global_temp_CO2_clean_df.loc[global_temp_CO2_clean_df[\"YR\"] <= \"1950\", :]\n",
    "global_temp_CO2_1950_df.head()"
   ]
  },
  {
   "cell_type": "code",
   "execution_count": 8,
   "metadata": {},
   "outputs": [],
   "source": [
    "#Setting the x axis and y axis for the scatter plot\n",
    "CO2 = global_temp_CO2_1950_df[\"CO2\"]\n",
    "Temperature = global_temp_CO2_1950_df[\"Temp\"]"
   ]
  },
  {
   "cell_type": "code",
   "execution_count": 9,
   "metadata": {
    "scrolled": true
   },
   "outputs": [
    {
     "data": {
      "image/png": "[encoded data removed]",
      "text/plain": [
       "<Figure size 576x576 with 1 Axes>"
      ]
     },
     "metadata": {
      "needs_background": "light"
     },
     "output_type": "display_data"
    },
    {
     "data": {
      "text/plain": [
       "<Figure size 432x288 with 0 Axes>"
      ]
     },
     "metadata": {},
     "output_type": "display_data"
    }
   ],
   "source": [
    "# Creating a scatter plot and formatting \n",
    "plt.figure(figsize=(8,8))\n",
    "plt.scatter(CO2, Temperature, marker=\"o\", facecolors=\"blue\", edgecolors=\"black\", linewidths =1,\n",
    "             alpha=0.75, label=\"TempvsCO2\")\n",
    "\n",
    "plt.title(\"CO2 Emission vs. Temperature from 1905 to 1950\")\n",
    "plt.xlabel(\"CO2 Emission\")\n",
    "plt.ylabel(\"Temperature (F)\")\n",
    "\n",
    "\n",
    "# Line plot\n",
    "slope, intercept, r_value, p_value, std_err = linregress(CO2,Temperature)\n",
    "line = slope * CO2 + intercept\n",
    "\n",
    "plt.plot(CO2, line)\n",
    "\n",
    "plt.grid()\n",
    "plt.show()\n",
    "plt.savefig(\"../Images/CO2vsTemp50.png\")"
   ]
  },
  {
   "cell_type": "code",
   "execution_count": 10,
   "metadata": {},
   "outputs": [
    {
     "data": {
      "text/plain": [
       "LinregressResult(slope=-1.891483548240455e-13, intercept=25.822810371381824, rvalue=-0.0095306316790402, pvalue=0.9498761247010676, stderr=2.9918155758738702e-12)"
      ]
     },
     "execution_count": 10,
     "metadata": {},
     "output_type": "execute_result"
    }
   ],
   "source": [
    "linregress(CO2, Temperature)\n"
   ]
  },
  {
   "cell_type": "code",
   "execution_count": 11,
   "metadata": {},
   "outputs": [
    {
     "data": {
      "text/html": [
       "<div>\n",
       "<style scoped>\n",
       "    .dataframe tbody tr th:only-of-type {\n",
       "        vertical-align: middle;\n",
       "    }\n",
       "\n",
       "    .dataframe tbody tr th {\n",
       "        vertical-align: top;\n",
       "    }\n",
       "\n",
       "    .dataframe thead th {\n",
       "        text-align: right;\n",
       "    }\n",
       "</style>\n",
       "<table border=\"1\" class=\"dataframe\">\n",
       "  <thead>\n",
       "    <tr style=\"text-align: right;\">\n",
       "      <th></th>\n",
       "      <th>YR</th>\n",
       "      <th>CO2</th>\n",
       "      <th>Temp</th>\n",
       "    </tr>\n",
       "  </thead>\n",
       "  <tbody>\n",
       "    <tr>\n",
       "      <th>46</th>\n",
       "      <td>1951</td>\n",
       "      <td>6.962909e+11</td>\n",
       "      <td>30.2</td>\n",
       "    </tr>\n",
       "    <tr>\n",
       "      <th>47</th>\n",
       "      <td>1952</td>\n",
       "      <td>7.146129e+11</td>\n",
       "      <td>26.4</td>\n",
       "    </tr>\n",
       "    <tr>\n",
       "      <th>48</th>\n",
       "      <td>1953</td>\n",
       "      <td>7.334089e+11</td>\n",
       "      <td>28.7</td>\n",
       "    </tr>\n",
       "    <tr>\n",
       "      <th>49</th>\n",
       "      <td>1954</td>\n",
       "      <td>7.524743e+11</td>\n",
       "      <td>31.3</td>\n",
       "    </tr>\n",
       "    <tr>\n",
       "      <th>50</th>\n",
       "      <td>1955</td>\n",
       "      <td>7.733278e+11</td>\n",
       "      <td>28.1</td>\n",
       "    </tr>\n",
       "  </tbody>\n",
       "</table>\n",
       "</div>"
      ],
      "text/plain": [
       "      YR           CO2  Temp\n",
       "46  1951  6.962909e+11  30.2\n",
       "47  1952  7.146129e+11  26.4\n",
       "48  1953  7.334089e+11  28.7\n",
       "49  1954  7.524743e+11  31.3\n",
       "50  1955  7.733278e+11  28.1"
      ]
     },
     "execution_count": 11,
     "metadata": {},
     "output_type": "execute_result"
    }
   ],
   "source": [
    "# Filtering the data from 1950 to 2016\n",
    "global_temp_CO2_2016_df = global_temp_CO2_clean_df.loc[global_temp_CO2_clean_df[\"YR\"] > \"1950\", :]\n",
    "global_temp_CO2_2016_df.head()"
   ]
  },
  {
   "cell_type": "code",
   "execution_count": 12,
   "metadata": {},
   "outputs": [],
   "source": [
    "#Setting the x axis and y axis for the scatter plot\n",
    "CO2_16 = global_temp_CO2_2016_df[\"CO2\"]\n",
    "Temperature_16 = global_temp_CO2_2016_df[\"Temp\"]"
   ]
  },
  {
   "cell_type": "code",
   "execution_count": 13,
   "metadata": {},
   "outputs": [
    {
     "data": {
      "image/png": "[encoded data removed]",
      "text/plain": [
       "<Figure size 576x576 with 1 Axes>"
      ]
     },
     "metadata": {
      "needs_background": "light"
     },
     "output_type": "display_data"
    },
    {
     "data": {
      "text/plain": [
       "<Figure size 432x288 with 0 Axes>"
      ]
     },
     "metadata": {},
     "output_type": "display_data"
    }
   ],
   "source": [
    "# Creating a scatter plot and formatting \n",
    "plt.figure(figsize=(8,8))\n",
    "plt.scatter(CO2_16, Temperature_16, marker=\"o\", facecolors=\"blue\", edgecolors=\"black\", linewidths =1,\n",
    "             alpha=0.75, label=\"TempvsCO2\")\n",
    "\n",
    "plt.title(\"CO2 Emission vs. Temperature from 1950 to 2016\")\n",
    "plt.xlabel(\"CO2 Emission\")\n",
    "plt.ylabel(\"Temperature (F)\")\n",
    "\n",
    "# Line plot\n",
    "slope, intercept, r_value, p_value, std_err = linregress(CO2_16,Temperature_16)\n",
    "line = slope * CO2_16 + intercept\n",
    "\n",
    "plt.plot(CO2_16, line)\n",
    "\n",
    "plt.grid()\n",
    "plt.show()\n",
    "plt.savefig(\"../Images/CO2vsTemp16.png\")"
   ]
  },
  {
   "cell_type": "code",
   "execution_count": 14,
   "metadata": {},
   "outputs": [
    {
     "data": {
      "text/plain": [
       "LinregressResult(slope=3.51507303363255e-13, intercept=27.48420702910005, rvalue=0.17471627916095497, pvalue=0.1605870259332089, stderr=2.4761624111172153e-13)"
      ]
     },
     "execution_count": 14,
     "metadata": {},
     "output_type": "execute_result"
    }
   ],
   "source": [
    "linregress(CO2_16, Temperature_16)"
   ]
  },
  {
   "cell_type": "code",
   "execution_count": null,
   "metadata": {},
   "outputs": [],
   "source": []
  }
 ],
 "metadata": {
  "kernelspec": {
   "display_name": "Python 3",
   "language": "python",
   "name": "python3"
  },
  "language_info": {
   "codemirror_mode": {
    "name": "ipython",
    "version": 3
   },
   "file_extension": ".py",
   "mimetype": "text/x-python",
   "name": "python",
   "nbconvert_exporter": "python",
   "pygments_lexer": "ipython3",
   "version": "3.6.8"
  }
 },
 "nbformat": 4,
 "nbformat_minor": 2
}
