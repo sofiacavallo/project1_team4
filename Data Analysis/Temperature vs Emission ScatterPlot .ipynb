{
 "cells": [
  {
   "cell_type": "code",
   "execution_count": 1,
   "metadata": {},
   "outputs": [],
   "source": [
    "#importing dependencies\n",
    "import pandas as pd \n",
    "import matplotlib.pyplot as plt \n",
    "import numpy as np \n",
    "from scipy.stats import sem, ttest_ind, linregress"
   ]
  },
  {
   "cell_type": "code",
   "execution_count": 2,
   "metadata": {},
   "outputs": [],
   "source": [
    "#creating a path for the csv file\n",
    "csv_file = \"../Datasets/cumulative-co-emissions.csv\""
   ]
  },
  {
   "cell_type": "code",
   "execution_count": 3,
   "metadata": {},
   "outputs": [
    {
     "data": {
      "text/html": [
       "<div>\n",
       "<style scoped>\n",
       "    .dataframe tbody tr th:only-of-type {\n",
       "        vertical-align: middle;\n",
       "    }\n",
       "\n",
       "    .dataframe tbody tr th {\n",
       "        vertical-align: top;\n",
       "    }\n",
       "\n",
       "    .dataframe thead th {\n",
       "        text-align: right;\n",
       "    }\n",
       "</style>\n",
       "<table border=\"1\" class=\"dataframe\">\n",
       "  <thead>\n",
       "    <tr style=\"text-align: right;\">\n",
       "      <th></th>\n",
       "      <th>YR</th>\n",
       "      <th>CO2</th>\n",
       "      <th>land_ocean_temp_index</th>\n",
       "      <th>land_ocean_temp_index_smoothed</th>\n",
       "    </tr>\n",
       "  </thead>\n",
       "  <tbody>\n",
       "    <tr>\n",
       "      <th>0</th>\n",
       "      <td>1880</td>\n",
       "      <td>5.596738e+10</td>\n",
       "      <td>-0.19</td>\n",
       "      <td>-0.11</td>\n",
       "    </tr>\n",
       "    <tr>\n",
       "      <th>1</th>\n",
       "      <td>1881</td>\n",
       "      <td>5.861068e+10</td>\n",
       "      <td>-0.10</td>\n",
       "      <td>-0.14</td>\n",
       "    </tr>\n",
       "    <tr>\n",
       "      <th>2</th>\n",
       "      <td>1882</td>\n",
       "      <td>6.139991e+10</td>\n",
       "      <td>-0.11</td>\n",
       "      <td>-0.18</td>\n",
       "    </tr>\n",
       "    <tr>\n",
       "      <th>3</th>\n",
       "      <td>1883</td>\n",
       "      <td>6.436377e+10</td>\n",
       "      <td>-0.19</td>\n",
       "      <td>-0.21</td>\n",
       "    </tr>\n",
       "    <tr>\n",
       "      <th>4</th>\n",
       "      <td>1884</td>\n",
       "      <td>6.736057e+10</td>\n",
       "      <td>-0.28</td>\n",
       "      <td>-0.24</td>\n",
       "    </tr>\n",
       "  </tbody>\n",
       "</table>\n",
       "</div>"
      ],
      "text/plain": [
       "     YR           CO2  land_ocean_temp_index  land_ocean_temp_index_smoothed\n",
       "0  1880  5.596738e+10                  -0.19                           -0.11\n",
       "1  1881  5.861068e+10                  -0.10                           -0.14\n",
       "2  1882  6.139991e+10                  -0.11                           -0.18\n",
       "3  1883  6.436377e+10                  -0.19                           -0.21\n",
       "4  1884  6.736057e+10                  -0.28                           -0.24"
      ]
     },
     "execution_count": 3,
     "metadata": {},
     "output_type": "execute_result"
    }
   ],
   "source": [
    "# reading the csv file and creating a dataframe\n",
    "global_temp_CO2_df = pd.read_csv(csv_file)\n",
    "global_temp_CO2_df.head()"
   ]
  },
  {
   "cell_type": "code",
   "execution_count": 4,
   "metadata": {},
   "outputs": [
    {
     "data": {
      "text/plain": [
       "YR                                137\n",
       "CO2                               137\n",
       "land_ocean_temp_index             137\n",
       "land_ocean_temp_index_smoothed    137\n",
       "dtype: int64"
      ]
     },
     "execution_count": 4,
     "metadata": {},
     "output_type": "execute_result"
    }
   ],
   "source": [
    "#Checking how many values each column has\n",
    "global_temp_CO2_df.count()\n"
   ]
  },
  {
   "cell_type": "code",
   "execution_count": null,
   "metadata": {},
   "outputs": [],
   "source": []
  },
  {
   "cell_type": "code",
   "execution_count": 5,
   "metadata": {},
   "outputs": [
    {
     "data": {
      "text/html": [
       "<div>\n",
       "<style scoped>\n",
       "    .dataframe tbody tr th:only-of-type {\n",
       "        vertical-align: middle;\n",
       "    }\n",
       "\n",
       "    .dataframe tbody tr th {\n",
       "        vertical-align: top;\n",
       "    }\n",
       "\n",
       "    .dataframe thead th {\n",
       "        text-align: right;\n",
       "    }\n",
       "</style>\n",
       "<table border=\"1\" class=\"dataframe\">\n",
       "  <thead>\n",
       "    <tr style=\"text-align: right;\">\n",
       "      <th></th>\n",
       "      <th>YR</th>\n",
       "      <th>CO2</th>\n",
       "      <th>land_ocean_temp_index</th>\n",
       "      <th>land_ocean_temp_index_smoothed</th>\n",
       "    </tr>\n",
       "  </thead>\n",
       "  <tbody>\n",
       "    <tr>\n",
       "      <th>66</th>\n",
       "      <td>1946</td>\n",
       "      <td>6.157245e+11</td>\n",
       "      <td>-0.07</td>\n",
       "      <td>0.00</td>\n",
       "    </tr>\n",
       "    <tr>\n",
       "      <th>67</th>\n",
       "      <td>1947</td>\n",
       "      <td>6.306470e+11</td>\n",
       "      <td>-0.04</td>\n",
       "      <td>-0.04</td>\n",
       "    </tr>\n",
       "    <tr>\n",
       "      <th>68</th>\n",
       "      <td>1948</td>\n",
       "      <td>6.463620e+11</td>\n",
       "      <td>-0.10</td>\n",
       "      <td>-0.07</td>\n",
       "    </tr>\n",
       "    <tr>\n",
       "      <th>69</th>\n",
       "      <td>1949</td>\n",
       "      <td>6.613941e+11</td>\n",
       "      <td>-0.11</td>\n",
       "      <td>-0.08</td>\n",
       "    </tr>\n",
       "    <tr>\n",
       "      <th>70</th>\n",
       "      <td>1950</td>\n",
       "      <td>6.781871e+11</td>\n",
       "      <td>-0.18</td>\n",
       "      <td>-0.08</td>\n",
       "    </tr>\n",
       "  </tbody>\n",
       "</table>\n",
       "</div>"
      ],
      "text/plain": [
       "      YR           CO2  land_ocean_temp_index  land_ocean_temp_index_smoothed\n",
       "66  1946  6.157245e+11                  -0.07                            0.00\n",
       "67  1947  6.306470e+11                  -0.04                           -0.04\n",
       "68  1948  6.463620e+11                  -0.10                           -0.07\n",
       "69  1949  6.613941e+11                  -0.11                           -0.08\n",
       "70  1950  6.781871e+11                  -0.18                           -0.08"
      ]
     },
     "execution_count": 5,
     "metadata": {},
     "output_type": "execute_result"
    }
   ],
   "source": [
    "# Filtering the data from 1880 to 1950\n",
    "global_temp_CO2_1950_df = global_temp_CO2_df.loc[global_temp_CO2_df[\"YR\"] <= 1950, :]\n",
    "global_temp_CO2_1950_df.tail()\n"
   ]
  },
  {
   "cell_type": "code",
   "execution_count": 6,
   "metadata": {},
   "outputs": [],
   "source": [
    "#Setting the x axis and y axis for the scatter plot\n",
    "CO2 = global_temp_CO2_1950_df[\"CO2\"]\n",
    "Temperature = global_temp_CO2_1950_df[\"land_ocean_temp_index_smoothed\"]"
   ]
  },
  {
   "cell_type": "code",
   "execution_count": 7,
   "metadata": {
    "scrolled": true
   },
   "outputs": [
    {
     "data": {
      "image/png": "[encoded data removed]",
      "text/plain": [
       "<Figure size 576x576 with 1 Axes>"
      ]
     },
     "metadata": {
      "needs_background": "light"
     },
     "output_type": "display_data"
    },
    {
     "data": {
      "text/plain": [
       "<Figure size 432x288 with 0 Axes>"
      ]
     },
     "metadata": {},
     "output_type": "display_data"
    }
   ],
   "source": [
    "# Creating a scatter plot and formatting \n",
    "plt.figure(figsize=(8,8))\n",
    "plt.scatter(CO2, Temperature, marker=\"o\", facecolors=\"blue\", edgecolors=\"black\", linewidths =1,\n",
    "             alpha=0.75, label=\"TempvsCO2\")\n",
    "\n",
    "plt.title(\"CO2 Emission vs. Temperature from 1880 to 1950\")\n",
    "plt.xlabel(\"CO2 Emission\")\n",
    "plt.ylabel(\"Land Ocean Temperature Index\")\n",
    "\n",
    "\n",
    "# Line plot\n",
    "slope, intercept, r_value, p_value, std_err = linregress(CO2,Temperature)\n",
    "line = slope * CO2 + intercept\n",
    "\n",
    "plt.plot(CO2, line)\n",
    "\n",
    "plt.grid()\n",
    "plt.show()\n",
    "plt.savefig(\"../Images/CO2vsTemp50.png\")"
   ]
  },
  {
   "cell_type": "code",
   "execution_count": 8,
   "metadata": {},
   "outputs": [
    {
     "data": {
      "text/plain": [
       "LinregressResult(slope=4.603301316770237e-13, intercept=-0.3320095876533654, rvalue=0.7035100445381238, pvalue=7.822935703903483e-12, stderr=5.598244951517755e-14)"
      ]
     },
     "execution_count": 8,
     "metadata": {},
     "output_type": "execute_result"
    }
   ],
   "source": [
    "linregress(CO2, Temperature)\n"
   ]
  },
  {
   "cell_type": "markdown",
   "metadata": {},
   "source": [
    "Observation\n",
    "\n",
    "From the regression analysis, we see that from the year of 1950 to 2016, there is a strong positive correlation between Land Ocean Temperature Index C and CO2 emission(rvalue = 0.70). We can reject the null hypothesis because the p-value is smaller than 0.05 (pvalue = 7.82 e-56). We conclude that there is is correlation between Land Ocean Temperature Index C and CO2 Emission between the year of 1880 to 1950."
   ]
  },
  {
   "cell_type": "code",
   "execution_count": 9,
   "metadata": {},
   "outputs": [
    {
     "data": {
      "text/html": [
       "<div>\n",
       "<style scoped>\n",
       "    .dataframe tbody tr th:only-of-type {\n",
       "        vertical-align: middle;\n",
       "    }\n",
       "\n",
       "    .dataframe tbody tr th {\n",
       "        vertical-align: top;\n",
       "    }\n",
       "\n",
       "    .dataframe thead th {\n",
       "        text-align: right;\n",
       "    }\n",
       "</style>\n",
       "<table border=\"1\" class=\"dataframe\">\n",
       "  <thead>\n",
       "    <tr style=\"text-align: right;\">\n",
       "      <th></th>\n",
       "      <th>YR</th>\n",
       "      <th>CO2</th>\n",
       "      <th>land_ocean_temp_index</th>\n",
       "      <th>land_ocean_temp_index_smoothed</th>\n",
       "    </tr>\n",
       "  </thead>\n",
       "  <tbody>\n",
       "    <tr>\n",
       "      <th>132</th>\n",
       "      <td>2012</td>\n",
       "      <td>4.119099e+12</td>\n",
       "      <td>0.62</td>\n",
       "      <td>0.67</td>\n",
       "    </tr>\n",
       "    <tr>\n",
       "      <th>133</th>\n",
       "      <td>2013</td>\n",
       "      <td>4.222918e+12</td>\n",
       "      <td>0.65</td>\n",
       "      <td>0.71</td>\n",
       "    </tr>\n",
       "    <tr>\n",
       "      <th>134</th>\n",
       "      <td>2014</td>\n",
       "      <td>4.327605e+12</td>\n",
       "      <td>0.73</td>\n",
       "      <td>0.76</td>\n",
       "    </tr>\n",
       "    <tr>\n",
       "      <th>135</th>\n",
       "      <td>2015</td>\n",
       "      <td>4.432543e+12</td>\n",
       "      <td>0.87</td>\n",
       "      <td>0.80</td>\n",
       "    </tr>\n",
       "    <tr>\n",
       "      <th>136</th>\n",
       "      <td>2016</td>\n",
       "      <td>4.467354e+12</td>\n",
       "      <td>0.99</td>\n",
       "      <td>0.85</td>\n",
       "    </tr>\n",
       "  </tbody>\n",
       "</table>\n",
       "</div>"
      ],
      "text/plain": [
       "       YR           CO2  land_ocean_temp_index  land_ocean_temp_index_smoothed\n",
       "132  2012  4.119099e+12                   0.62                            0.67\n",
       "133  2013  4.222918e+12                   0.65                            0.71\n",
       "134  2014  4.327605e+12                   0.73                            0.76\n",
       "135  2015  4.432543e+12                   0.87                            0.80\n",
       "136  2016  4.467354e+12                   0.99                            0.85"
      ]
     },
     "execution_count": 9,
     "metadata": {},
     "output_type": "execute_result"
    }
   ],
   "source": [
    "# Filtering the data from 1950 to 2016\n",
    "global_temp_CO2_2016_df = global_temp_CO2_df.loc[global_temp_CO2_df[\"YR\"] > 1950, :]\n",
    "global_temp_CO2_2016_df.tail()"
   ]
  },
  {
   "cell_type": "code",
   "execution_count": 10,
   "metadata": {},
   "outputs": [],
   "source": [
    "#Setting the x axis and y axis for the scatter plot\n",
    "CO2_16 = global_temp_CO2_2016_df[\"CO2\"]\n",
    "Temperature_16 = global_temp_CO2_2016_df[\"land_ocean_temp_index_smoothed\"]"
   ]
  },
  {
   "cell_type": "code",
   "execution_count": 11,
   "metadata": {},
   "outputs": [
    {
     "data": {
      "image/png": "[encoded data removed]",
      "text/plain": [
       "<Figure size 576x576 with 1 Axes>"
      ]
     },
     "metadata": {
      "needs_background": "light"
     },
     "output_type": "display_data"
    },
    {
     "data": {
      "text/plain": [
       "<Figure size 432x288 with 0 Axes>"
      ]
     },
     "metadata": {},
     "output_type": "display_data"
    }
   ],
   "source": [
    "# Creating a scatter plot and formatting \n",
    "plt.figure(figsize=(8,8))\n",
    "plt.scatter(CO2_16, Temperature_16, marker=\"o\", facecolors=\"blue\", edgecolors=\"black\", linewidths =1,\n",
    "             alpha=0.75, label=\"CvsCO2\")\n",
    "\n",
    "plt.title(\"CO2 Emission vs. C from 1950 to 2016\")\n",
    "plt.xlabel(\"CO2 Emission\")\n",
    "plt.ylabel(\"Land Ocean Temperature index C\")\n",
    "\n",
    "# Line plot\n",
    "slope, intercept, r_value, p_value, std_err = linregress(CO2_16,Temperature_16)\n",
    "line = slope * CO2_16 + intercept\n",
    "\n",
    "plt.plot(CO2_16, line)\n",
    "\n",
    "plt.grid()\n",
    "plt.show()\n",
    "plt.savefig(\"../Images/CO2vsC16.png\")"
   ]
  },
  {
   "cell_type": "code",
   "execution_count": 12,
   "metadata": {},
   "outputs": [
    {
     "data": {
      "text/plain": [
       "LinregressResult(slope=2.383849533149886e-13, intercept=-0.25947713655493304, rvalue=0.9897080935086295, pvalue=9.175620460759233e-56, stderr=4.308482466468361e-15)"
      ]
     },
     "execution_count": 12,
     "metadata": {},
     "output_type": "execute_result"
    }
   ],
   "source": [
    "linregress(CO2_16, Temperature_16)"
   ]
  },
  {
   "cell_type": "markdown",
   "metadata": {},
   "source": [
    "Observation\n",
    "\n",
    "From the regression analysis, we see that from the year of 1950 to 2016, there is a strong positive correlation between Land Ocean Temperature Index C and CO2 emission(rvalue = 0.9). We can reject the null hypothesis because the p-value is smaller than 0.05 (pvalue = 9.17 e-56). We conclude that there is is correlation between Land Ocean Temperature Index C and CO2 Emission between the year of 1950 to 2016. "
   ]
  },
  {
   "cell_type": "code",
   "execution_count": null,
   "metadata": {},
   "outputs": [],
   "source": []
  }
 ],
 "metadata": {
  "kernelspec": {
   "display_name": "Python 3",
   "language": "python",
   "name": "python3"
  },
  "language_info": {
   "codemirror_mode": {
    "name": "ipython",
    "version": 3
   },
   "file_extension": ".py",
   "mimetype": "text/x-python",
   "name": "python",
   "nbconvert_exporter": "python",
   "pygments_lexer": "ipython3",
   "version": "3.6.8"
  }
 },
 "nbformat": 4,
 "nbformat_minor": 2
}
